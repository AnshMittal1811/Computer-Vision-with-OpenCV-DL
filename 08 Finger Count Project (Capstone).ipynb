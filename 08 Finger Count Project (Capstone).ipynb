{
 "cells": [
  {
   "cell_type": "markdown",
   "metadata": {},
   "source": [
    "# Capstone Project\n",
    "\n",
    "## Finger Detection and Counting"
   ]
  },
  {
   "cell_type": "markdown",
   "metadata": {},
   "source": [
    "## Importing Prereqisites"
   ]
  },
  {
   "cell_type": "code",
   "execution_count": 7,
   "metadata": {},
   "outputs": [],
   "source": [
    "import cv2\n",
    "import numpy as np\n",
    "from sklearn.metrics import pairwise"
   ]
  },
  {
   "cell_type": "markdown",
   "metadata": {},
   "source": [
    "### Global Variables"
   ]
  },
  {
   "cell_type": "code",
   "execution_count": 8,
   "metadata": {},
   "outputs": [],
   "source": [
    "background = None\n",
    "\n",
    "accum_weight = 0.5\n",
    "\n",
    "roi_t = 20\n",
    "roi_b = 300\n",
    "roi_r = 300\n",
    "roi_l = 600"
   ]
  },
  {
   "cell_type": "markdown",
   "metadata": {},
   "source": [
    "## Finding Average Background Value\n",
    "\n",
    "The function calculates the weighted sum of input image source and accumulator distance so that distance becomes a running average of a frame sequence:"
   ]
  },
  {
   "cell_type": "code",
   "execution_count": 9,
   "metadata": {},
   "outputs": [],
   "source": [
    "def calc_accumulate_average(frame, accum_weight):\n",
    "    '''\n",
    "    Given a frame and a previous accumulated weight, computes the weighted average of the image passed in.\n",
    "    '''\n",
    "    global background\n",
    "    \n",
    "    if background is None:\n",
    "        background = frame.copy().astype('float')\n",
    "        retur None \n",
    "        \n",
    "    cv2.accumulateWeighted(frame, background, accum_weight)"
   ]
  },
  {
   "cell_type": "markdown",
   "metadata": {},
   "source": [
    "## Segment the Hand Region in Frame"
   ]
  },
  {
   "cell_type": "code",
   "execution_count": 11,
   "metadata": {},
   "outputs": [],
   "source": [
    "def segment(frame, th_min=25):\n",
    "    global background\n",
    "    \n",
    "    diff = cv2.absdiff(background.astype(\"uint8\"), frame)\n",
    "\n",
    "    ret, threshold = cv2.threshold(diff, th_min, 255, cv2.THRESH_BINARY)\n",
    "\n",
    "    image, contours, hierarchy = cv2.findContours(threshold.copy(), cv2.RETR_EXTERNAL, cv2.CHAIN_APPROX_SIMPLE)\n",
    "\n",
    "    if len(contours) == 0:\n",
    "        return None\n",
    "    else:\n",
    "        hand_segment = max(contours, key = cv2.contourArea)\n",
    "        return (threshold, hand_segment)"
   ]
  },
  {
   "cell_type": "markdown",
   "metadata": {},
   "source": [
    "## Counting Fingers with a Convex Hull\n",
    "\n",
    "We just calculated the external contour of the hand. Now using that segmented hand, let's see how to calculate fingers. Then we can count how many are up!\n",
    "\n",
    "Example of ConvexHulls:\n",
    "\n",
    "<img src=\"Images/hand_convex.png\">"
   ]
  },
  {
   "cell_type": "code",
   "execution_count": 12,
   "metadata": {},
   "outputs": [],
   "source": [
    "def count_fingers(threshold, hand_segment):\n",
    "    \n",
    "    \n",
    "    convhull = cv2.convexHull(hand_segment)\n",
    "    \n",
    "    top    = tuple(convhull[convhull[:, :, 1].argmin()][0])\n",
    "    bottom = tuple(convhull[convhull[:, :, 1].argmax()][0])\n",
    "    left   = tuple(convhull[convhull[:, :, 0].argmin()][0])\n",
    "    right  = tuple(convhull[convhull[:, :, 0].argmax()][0])\n",
    "\n",
    "    cX = (left[0] + right[0]) // 2\n",
    "    cY = (top[1] + bottom[1]) // 2\n",
    "\n",
    "    \n",
    "    distance = pairwise.euclidean_distances([(cX, cY)], Y=[left, right, top, bottom])[0]\n",
    "    \n",
    "    max_distance = distance.max()\n",
    "    \n",
    "    radius = int(0.8 * max_distance)\n",
    "    circumference = (2 * np.pi * radius)\n",
    "\n",
    "    circular_roi = np.zeros(threshold.shape[:2], dtype=\"uint8\")\n",
    "    \n",
    "    cv2.circle(circular_roi, (cX, cY), radius, 255, 10)\n",
    "    \n",
    "    circular_roi = cv2.bitwise_and(threshold, threshold, mask=circular_roi)\n",
    "\n",
    "    image, contours, hierarchy = cv2.findContours(circular_roi.copy(), cv2.RETR_EXTERNAL, cv2.CHAIN_APPROX_NONE)\n",
    "\n",
    "    count = 0\n",
    "\n",
    "    for cnt in contours:\n",
    "        (x, y, w, h) = cv2.boundingRect(cnt)\n",
    "\n",
    "        out_of_wrist = ((cY + (cY * 0.25)) > (y + h))\n",
    "        \n",
    "        limit_points = ((circumference * 0.25) > cnt.shape[0])\n",
    "        \n",
    "        \n",
    "        if  out_of_wrist and limit_points:\n",
    "            count += 1\n",
    "\n",
    "    return count"
   ]
  },
  {
   "cell_type": "markdown",
   "metadata": {},
   "source": [
    "## Run Program"
   ]
  },
  {
   "cell_type": "code",
   "execution_count": 13,
   "metadata": {},
   "outputs": [],
   "source": [
    "cam = cv2.VideoCapture(0)\n",
    "\n",
    "num_frames = 0\n",
    "\n",
    "while True:\n",
    "    ret, frame = cam.read()\n",
    "\n",
    "    frame = cv2.flip(frame, 1)\n",
    "\n",
    "    frame_copy = frame.copy()\n",
    "\n",
    "    roi = frame[roi_t:roi_b, roi_r:roi_l]\n",
    "\n",
    "    gray = cv2.cvtColor(roi, cv2.COLOR_BGR2GRAY)\n",
    "    gray = cv2.GaussianBlur(gray, (7, 7), 0)\n",
    "\n",
    "    if num_frames < 60:\n",
    "        calc_accumulate_average(gray, accum_weight)\n",
    "        if num_frames <= 59:\n",
    "            cv2.putText(frame_copy, \"WAIT! GETTING BACKGROUND AVERAGE\", (200, 400), cv2.FONT_HERSHEY_SIMPLEX, 1, (0,0,255), 2)\n",
    "            cv2.imshow(\"Finger Count\",frame_copy)\n",
    "            \n",
    "    else:\n",
    "        hand = segment(gray)\n",
    "        \n",
    "        if hand is not None:\n",
    "            threshold, hand_segment = hand\n",
    "            cv2.drawContours(frame_copy, [hand_segment + (roi_r, roi_t)], -1, (255, 0, 0),1)\n",
    "            fingers = count_fingers(threshold, hand_segment)\n",
    "            cv2.putText(frame_copy, str(fingers), (70, 45), cv2.FONT_HERSHEY_SIMPLEX, 1, (0,0,255), 2)\n",
    "            cv2.imshow(\"Thesholded\", threshold)\n",
    "\n",
    "    cv2.rectangle(frame_copy, (roi_l, roi_t), (roi_r, roi_b), (0,0,255), 5)\n",
    "    num_frames += 1\n",
    "\n",
    "    cv2.imshow(\"Finger Count\", frame_copy)\n",
    "\n",
    "    k = cv2.waitKey(1) & 0xFF\n",
    "\n",
    "    if k == 27:\n",
    "        break\n",
    "\n",
    "cam.release()\n",
    "cv2.destroyAllWindows()"
   ]
  },
  {
   "cell_type": "code",
   "execution_count": null,
   "metadata": {},
   "outputs": [],
   "source": []
  }
 ],
 "metadata": {
  "kernelspec": {
   "display_name": "Python 3",
   "language": "python",
   "name": "python3"
  },
  "language_info": {
   "codemirror_mode": {
    "name": "ipython",
    "version": 3
   },
   "file_extension": ".py",
   "mimetype": "text/x-python",
   "name": "python",
   "nbconvert_exporter": "python",
   "pygments_lexer": "ipython3",
   "version": "3.6.6"
  }
 },
 "nbformat": 4,
 "nbformat_minor": 2
}
